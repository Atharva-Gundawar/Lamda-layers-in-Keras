{
  "nbformat": 4,
  "nbformat_minor": 0,
  "metadata": {
    "colab": {
      "name": "Lamda_layers.ipynb",
      "provenance": []
    },
    "kernelspec": {
      "name": "python3",
      "display_name": "Python 3"
    },
    "language_info": {
      "name": "python"
    },
    "widgets": {
      "application/vnd.jupyter.widget-state+json": {
        "dc9ad73ffb984476adcf8c843f79f4f1": {
          "model_module": "@jupyter-widgets/controls",
          "model_name": "HBoxModel",
          "state": {
            "_view_name": "HBoxView",
            "_dom_classes": [],
            "_model_name": "HBoxModel",
            "_view_module": "@jupyter-widgets/controls",
            "_model_module_version": "1.5.0",
            "_view_count": null,
            "_view_module_version": "1.5.0",
            "box_style": "",
            "layout": "IPY_MODEL_80925e3cf09f43bc83513eae1c95c342",
            "_model_module": "@jupyter-widgets/controls",
            "children": [
              "IPY_MODEL_3551849f99ea4b699544af1bbe97fa72",
              "IPY_MODEL_1ebcc191f10a4eb9af11a2c8d0b10e5f"
            ]
          }
        },
        "80925e3cf09f43bc83513eae1c95c342": {
          "model_module": "@jupyter-widgets/base",
          "model_name": "LayoutModel",
          "state": {
            "_view_name": "LayoutView",
            "grid_template_rows": null,
            "right": null,
            "justify_content": null,
            "_view_module": "@jupyter-widgets/base",
            "overflow": null,
            "_model_module_version": "1.2.0",
            "_view_count": null,
            "flex_flow": null,
            "width": null,
            "min_width": null,
            "border": null,
            "align_items": null,
            "bottom": null,
            "_model_module": "@jupyter-widgets/base",
            "top": null,
            "grid_column": null,
            "overflow_y": null,
            "overflow_x": null,
            "grid_auto_flow": null,
            "grid_area": null,
            "grid_template_columns": null,
            "flex": null,
            "_model_name": "LayoutModel",
            "justify_items": null,
            "grid_row": null,
            "max_height": null,
            "align_content": null,
            "visibility": null,
            "align_self": null,
            "height": null,
            "min_height": null,
            "padding": null,
            "grid_auto_rows": null,
            "grid_gap": null,
            "max_width": null,
            "order": null,
            "_view_module_version": "1.2.0",
            "grid_template_areas": null,
            "object_position": null,
            "object_fit": null,
            "grid_auto_columns": null,
            "margin": null,
            "display": null,
            "left": null
          }
        },
        "3551849f99ea4b699544af1bbe97fa72": {
          "model_module": "@jupyter-widgets/controls",
          "model_name": "FloatProgressModel",
          "state": {
            "_view_name": "ProgressView",
            "style": "IPY_MODEL_f0b243959e264aae92464b4f18b6a32e",
            "_dom_classes": [],
            "description": "Dl Completed...: 100%",
            "_model_name": "FloatProgressModel",
            "bar_style": "success",
            "max": 4,
            "_view_module": "@jupyter-widgets/controls",
            "_model_module_version": "1.5.0",
            "value": 4,
            "_view_count": null,
            "_view_module_version": "1.5.0",
            "orientation": "horizontal",
            "min": 0,
            "description_tooltip": null,
            "_model_module": "@jupyter-widgets/controls",
            "layout": "IPY_MODEL_84456d17bbbf423c929443eb56a0f040"
          }
        },
        "1ebcc191f10a4eb9af11a2c8d0b10e5f": {
          "model_module": "@jupyter-widgets/controls",
          "model_name": "HTMLModel",
          "state": {
            "_view_name": "HTMLView",
            "style": "IPY_MODEL_39c932c950ee4c5cb0be2508fcc953ba",
            "_dom_classes": [],
            "description": "",
            "_model_name": "HTMLModel",
            "placeholder": "​",
            "_view_module": "@jupyter-widgets/controls",
            "_model_module_version": "1.5.0",
            "value": " 4/4 [00:01&lt;00:00,  3.89 file/s]",
            "_view_count": null,
            "_view_module_version": "1.5.0",
            "description_tooltip": null,
            "_model_module": "@jupyter-widgets/controls",
            "layout": "IPY_MODEL_70ddbf94f28f4936a4eb223e8f5e1aa5"
          }
        },
        "f0b243959e264aae92464b4f18b6a32e": {
          "model_module": "@jupyter-widgets/controls",
          "model_name": "ProgressStyleModel",
          "state": {
            "_view_name": "StyleView",
            "_model_name": "ProgressStyleModel",
            "description_width": "initial",
            "_view_module": "@jupyter-widgets/base",
            "_model_module_version": "1.5.0",
            "_view_count": null,
            "_view_module_version": "1.2.0",
            "bar_color": null,
            "_model_module": "@jupyter-widgets/controls"
          }
        },
        "84456d17bbbf423c929443eb56a0f040": {
          "model_module": "@jupyter-widgets/base",
          "model_name": "LayoutModel",
          "state": {
            "_view_name": "LayoutView",
            "grid_template_rows": null,
            "right": null,
            "justify_content": null,
            "_view_module": "@jupyter-widgets/base",
            "overflow": null,
            "_model_module_version": "1.2.0",
            "_view_count": null,
            "flex_flow": null,
            "width": null,
            "min_width": null,
            "border": null,
            "align_items": null,
            "bottom": null,
            "_model_module": "@jupyter-widgets/base",
            "top": null,
            "grid_column": null,
            "overflow_y": null,
            "overflow_x": null,
            "grid_auto_flow": null,
            "grid_area": null,
            "grid_template_columns": null,
            "flex": null,
            "_model_name": "LayoutModel",
            "justify_items": null,
            "grid_row": null,
            "max_height": null,
            "align_content": null,
            "visibility": null,
            "align_self": null,
            "height": null,
            "min_height": null,
            "padding": null,
            "grid_auto_rows": null,
            "grid_gap": null,
            "max_width": null,
            "order": null,
            "_view_module_version": "1.2.0",
            "grid_template_areas": null,
            "object_position": null,
            "object_fit": null,
            "grid_auto_columns": null,
            "margin": null,
            "display": null,
            "left": null
          }
        },
        "39c932c950ee4c5cb0be2508fcc953ba": {
          "model_module": "@jupyter-widgets/controls",
          "model_name": "DescriptionStyleModel",
          "state": {
            "_view_name": "StyleView",
            "_model_name": "DescriptionStyleModel",
            "description_width": "",
            "_view_module": "@jupyter-widgets/base",
            "_model_module_version": "1.5.0",
            "_view_count": null,
            "_view_module_version": "1.2.0",
            "_model_module": "@jupyter-widgets/controls"
          }
        },
        "70ddbf94f28f4936a4eb223e8f5e1aa5": {
          "model_module": "@jupyter-widgets/base",
          "model_name": "LayoutModel",
          "state": {
            "_view_name": "LayoutView",
            "grid_template_rows": null,
            "right": null,
            "justify_content": null,
            "_view_module": "@jupyter-widgets/base",
            "overflow": null,
            "_model_module_version": "1.2.0",
            "_view_count": null,
            "flex_flow": null,
            "width": null,
            "min_width": null,
            "border": null,
            "align_items": null,
            "bottom": null,
            "_model_module": "@jupyter-widgets/base",
            "top": null,
            "grid_column": null,
            "overflow_y": null,
            "overflow_x": null,
            "grid_auto_flow": null,
            "grid_area": null,
            "grid_template_columns": null,
            "flex": null,
            "_model_name": "LayoutModel",
            "justify_items": null,
            "grid_row": null,
            "max_height": null,
            "align_content": null,
            "visibility": null,
            "align_self": null,
            "height": null,
            "min_height": null,
            "padding": null,
            "grid_auto_rows": null,
            "grid_gap": null,
            "max_width": null,
            "order": null,
            "_view_module_version": "1.2.0",
            "grid_template_areas": null,
            "object_position": null,
            "object_fit": null,
            "grid_auto_columns": null,
            "margin": null,
            "display": null,
            "left": null
          }
        }
      }
    }
  },
  "cells": [
    {
      "cell_type": "markdown",
      "metadata": {
        "id": "7MRs1Pi6ClWw"
      },
      "source": [
        "## [Lambda](https://www.tensorflow.org/api_docs/python/tf/keras/layers/Lambda) Layer walkthrough "
      ]
    },
    {
      "cell_type": "markdown",
      "metadata": {
        "id": "t7QxRFA6SAIv"
      },
      "source": [
        "<table class=\"colab-notebook-buttons\" align=\"center\" width=\"50%\";>\n",
        "  <td><center>\n",
        "    <a target=\"_blank\" href=\"https://colab.research.google.com/github/Atharva-Gundawar/Huber_and_friends/blob/main/Huber_and_friends.ipynb\">\n",
        "    <img src=\"https://www.tensorflow.org/images/colab_logo_32px.png\" />\n",
        "    </br>Run in Google Colab</a>\n",
        "  </center></td>\n",
        "  <td><center>\n",
        "    <a target=\"_blank\" href=\"https://github.com/Atharva-Gundawar/Huber_and_friends/blob/main/Huber_and_friends.ipynb\">\n",
        "    <img src=\"https://www.tensorflow.org/images/GitHub-Mark-32px.png\" />\n",
        "    </br>View source on GitHub</a>\n",
        "  </center></td>\n",
        "</table>"
      ]
    },
    {
      "cell_type": "markdown",
      "metadata": {
        "id": "gFAH-3UTC0e7"
      },
      "source": [
        "## Preparing the colab "
      ]
    },
    {
      "cell_type": "code",
      "metadata": {
        "id": "pwJ8F7_wCdum"
      },
      "source": [
        "import tensorflow_datasets as tfds\n",
        "import tensorflow as tf\n",
        "import numpy as np\n"
      ],
      "execution_count": 1,
      "outputs": []
    },
    {
      "cell_type": "code",
      "metadata": {
        "id": "zXt-gXp8FoTM",
        "colab": {
          "base_uri": "https://localhost:8080/",
          "height": 200,
          "referenced_widgets": [
            "dc9ad73ffb984476adcf8c843f79f4f1",
            "80925e3cf09f43bc83513eae1c95c342",
            "3551849f99ea4b699544af1bbe97fa72",
            "1ebcc191f10a4eb9af11a2c8d0b10e5f",
            "f0b243959e264aae92464b4f18b6a32e",
            "84456d17bbbf423c929443eb56a0f040",
            "39c932c950ee4c5cb0be2508fcc953ba",
            "70ddbf94f28f4936a4eb223e8f5e1aa5"
          ]
        },
        "outputId": "fa09db5e-8edc-47aa-9520-4d836d33a980"
      },
      "source": [
        "(ds_train, ds_test), ds_info = tfds.load(\n",
        "    'mnist',\n",
        "    split=['train', 'test'],\n",
        "    shuffle_files=True,\n",
        "    as_supervised=True,\n",
        "    with_info=True,\n",
        ")"
      ],
      "execution_count": 2,
      "outputs": [
        {
          "output_type": "stream",
          "text": [
            "\u001b[1mDownloading and preparing dataset mnist/3.0.1 (download: 11.06 MiB, generated: 21.00 MiB, total: 32.06 MiB) to /root/tensorflow_datasets/mnist/3.0.1...\u001b[0m\n"
          ],
          "name": "stdout"
        },
        {
          "output_type": "stream",
          "text": [
            "WARNING:absl:Dataset mnist is hosted on GCS. It will automatically be downloaded to your\n",
            "local data directory. If you'd instead prefer to read directly from our public\n",
            "GCS bucket (recommended if you're running on GCP), you can instead pass\n",
            "`try_gcs=True` to `tfds.load` or set `data_dir=gs://tfds-data/datasets`.\n",
            "\n"
          ],
          "name": "stderr"
        },
        {
          "output_type": "display_data",
          "data": {
            "application/vnd.jupyter.widget-view+json": {
              "model_id": "dc9ad73ffb984476adcf8c843f79f4f1",
              "version_minor": 0,
              "version_major": 2
            },
            "text/plain": [
              "HBox(children=(FloatProgress(value=0.0, description='Dl Completed...', max=4.0, style=ProgressStyle(descriptio…"
            ]
          },
          "metadata": {
            "tags": []
          }
        },
        {
          "output_type": "stream",
          "text": [
            "\n",
            "\n",
            "\u001b[1mDataset mnist downloaded and prepared to /root/tensorflow_datasets/mnist/3.0.1. Subsequent calls will reuse this data.\u001b[0m\n"
          ],
          "name": "stdout"
        }
      ]
    },
    {
      "cell_type": "code",
      "metadata": {
        "id": "qT6bN7BpgB23"
      },
      "source": [
        "def normalize_img(image, label):\n",
        "  \"\"\"Normalizes images: `uint8` -> `float32`.\"\"\"\n",
        "  return tf.cast(image, tf.float32) / 255., label\n",
        "\n",
        "ds_train = ds_train.map(\n",
        "    normalize_img, num_parallel_calls=tf.data.experimental.AUTOTUNE)\n",
        "ds_train = ds_train.cache()\n",
        "ds_train = ds_train.shuffle(ds_info.splits['train'].num_examples)\n",
        "ds_train = ds_train.batch(128)\n",
        "ds_train = ds_train.prefetch(tf.data.experimental.AUTOTUNE)"
      ],
      "execution_count": 3,
      "outputs": []
    },
    {
      "cell_type": "code",
      "metadata": {
        "id": "yXYarHCWgFRe"
      },
      "source": [
        "ds_test = ds_test.map(\n",
        "    normalize_img, num_parallel_calls=tf.data.experimental.AUTOTUNE)\n",
        "ds_test = ds_test.batch(128)\n",
        "ds_test = ds_test.cache()\n",
        "ds_test = ds_test.prefetch(tf.data.experimental.AUTOTUNE)"
      ],
      "execution_count": 4,
      "outputs": []
    },
    {
      "cell_type": "code",
      "metadata": {
        "colab": {
          "base_uri": "https://localhost:8080/"
        },
        "id": "e6sWHvCJgcEo",
        "outputId": "6e4f3bea-44a2-442b-ca70-11ce73eb4798"
      },
      "source": [
        "model = tf.keras.models.Sequential([\n",
        "  tf.keras.layers.Flatten(input_shape=(28, 28)),\n",
        "  tf.keras.layers.Dense(128,activation='relu'),\n",
        "  tf.keras.layers.Dense(10)\n",
        "])\n",
        "model.compile(\n",
        "    optimizer=tf.keras.optimizers.Adam(0.001),\n",
        "    loss=tf.keras.losses.SparseCategoricalCrossentropy(from_logits=True),\n",
        "    metrics=[tf.keras.metrics.SparseCategoricalAccuracy()],\n",
        ")\n",
        "\n",
        "model.fit(\n",
        "    ds_train,\n",
        "    epochs=10,\n",
        "    validation_data=ds_test,\n",
        ")"
      ],
      "execution_count": 5,
      "outputs": [
        {
          "output_type": "stream",
          "text": [
            "Epoch 1/10\n",
            "469/469 [==============================] - 9s 6ms/step - loss: 0.3667 - sparse_categorical_accuracy: 0.8997 - val_loss: 0.1964 - val_sparse_categorical_accuracy: 0.9438\n",
            "Epoch 2/10\n",
            "469/469 [==============================] - 2s 3ms/step - loss: 0.1722 - sparse_categorical_accuracy: 0.9518 - val_loss: 0.1378 - val_sparse_categorical_accuracy: 0.9614\n",
            "Epoch 3/10\n",
            "469/469 [==============================] - 2s 3ms/step - loss: 0.1224 - sparse_categorical_accuracy: 0.9646 - val_loss: 0.1111 - val_sparse_categorical_accuracy: 0.9670\n",
            "Epoch 4/10\n",
            "469/469 [==============================] - 2s 3ms/step - loss: 0.0943 - sparse_categorical_accuracy: 0.9726 - val_loss: 0.0937 - val_sparse_categorical_accuracy: 0.9713\n",
            "Epoch 5/10\n",
            "469/469 [==============================] - 2s 3ms/step - loss: 0.0754 - sparse_categorical_accuracy: 0.9783 - val_loss: 0.0865 - val_sparse_categorical_accuracy: 0.9733\n",
            "Epoch 6/10\n",
            "469/469 [==============================] - 2s 3ms/step - loss: 0.0624 - sparse_categorical_accuracy: 0.9825 - val_loss: 0.0770 - val_sparse_categorical_accuracy: 0.9772\n",
            "Epoch 7/10\n",
            "469/469 [==============================] - 2s 3ms/step - loss: 0.0516 - sparse_categorical_accuracy: 0.9855 - val_loss: 0.0775 - val_sparse_categorical_accuracy: 0.9765\n",
            "Epoch 8/10\n",
            "469/469 [==============================] - 2s 3ms/step - loss: 0.0429 - sparse_categorical_accuracy: 0.9879 - val_loss: 0.0697 - val_sparse_categorical_accuracy: 0.9783\n",
            "Epoch 9/10\n",
            "469/469 [==============================] - 2s 3ms/step - loss: 0.0370 - sparse_categorical_accuracy: 0.9898 - val_loss: 0.0734 - val_sparse_categorical_accuracy: 0.9774\n",
            "Epoch 10/10\n",
            "469/469 [==============================] - 2s 3ms/step - loss: 0.0309 - sparse_categorical_accuracy: 0.9914 - val_loss: 0.0686 - val_sparse_categorical_accuracy: 0.9795\n"
          ],
          "name": "stdout"
        },
        {
          "output_type": "execute_result",
          "data": {
            "text/plain": [
              "<tensorflow.python.keras.callbacks.History at 0x7f93302235d0>"
            ]
          },
          "metadata": {
            "tags": []
          },
          "execution_count": 5
        }
      ]
    },
    {
      "cell_type": "code",
      "metadata": {
        "id": "g8QCsR_aG4Fr"
      },
      "source": [
        "def abs_not_relu(x):\n",
        "    return tf.keras.backend.abs(x)"
      ],
      "execution_count": 6,
      "outputs": []
    },
    {
      "cell_type": "code",
      "metadata": {
        "colab": {
          "base_uri": "https://localhost:8080/"
        },
        "id": "7CqjIGGNoNKW",
        "outputId": "6922f8f9-dc01-495b-99a6-5782cb39add8"
      },
      "source": [
        "model = tf.keras.models.Sequential([\n",
        "  tf.keras.layers.Flatten(input_shape=(28, 28)),\n",
        "  tf.keras.layers.Dense(128),\n",
        "  tf.keras.layers.Lambda(abs_not_relu),\n",
        "  tf.keras.layers.Dense(10)\n",
        "])\n",
        "model.compile(\n",
        "    optimizer=tf.keras.optimizers.Adam(0.001),\n",
        "    loss=tf.keras.losses.SparseCategoricalCrossentropy(from_logits=True),\n",
        "    metrics=[tf.keras.metrics.SparseCategoricalAccuracy()],\n",
        ")\n",
        "\n",
        "model.fit(\n",
        "    ds_train,\n",
        "    epochs=10,\n",
        "    validation_data=ds_test,\n",
        ")"
      ],
      "execution_count": 7,
      "outputs": [
        {
          "output_type": "stream",
          "text": [
            "Epoch 1/10\n",
            "469/469 [==============================] - 2s 3ms/step - loss: 0.3102 - sparse_categorical_accuracy: 0.9168 - val_loss: 0.1449 - val_sparse_categorical_accuracy: 0.9583\n",
            "Epoch 2/10\n",
            "469/469 [==============================] - 2s 3ms/step - loss: 0.1219 - sparse_categorical_accuracy: 0.9651 - val_loss: 0.0989 - val_sparse_categorical_accuracy: 0.9706\n",
            "Epoch 3/10\n",
            "469/469 [==============================] - 2s 3ms/step - loss: 0.0819 - sparse_categorical_accuracy: 0.9766 - val_loss: 0.0808 - val_sparse_categorical_accuracy: 0.9762\n",
            "Epoch 4/10\n",
            "469/469 [==============================] - 2s 3ms/step - loss: 0.0606 - sparse_categorical_accuracy: 0.9825 - val_loss: 0.0744 - val_sparse_categorical_accuracy: 0.9765\n",
            "Epoch 5/10\n",
            "469/469 [==============================] - 2s 3ms/step - loss: 0.0483 - sparse_categorical_accuracy: 0.9859 - val_loss: 0.0716 - val_sparse_categorical_accuracy: 0.9774\n",
            "Epoch 6/10\n",
            "469/469 [==============================] - 2s 3ms/step - loss: 0.0374 - sparse_categorical_accuracy: 0.9894 - val_loss: 0.0692 - val_sparse_categorical_accuracy: 0.9776\n",
            "Epoch 7/10\n",
            "469/469 [==============================] - 2s 3ms/step - loss: 0.0299 - sparse_categorical_accuracy: 0.9920 - val_loss: 0.0686 - val_sparse_categorical_accuracy: 0.9795\n",
            "Epoch 8/10\n",
            "469/469 [==============================] - 2s 3ms/step - loss: 0.0243 - sparse_categorical_accuracy: 0.9939 - val_loss: 0.0665 - val_sparse_categorical_accuracy: 0.9790\n",
            "Epoch 9/10\n",
            "469/469 [==============================] - 2s 3ms/step - loss: 0.0199 - sparse_categorical_accuracy: 0.9951 - val_loss: 0.0622 - val_sparse_categorical_accuracy: 0.9809\n",
            "Epoch 10/10\n",
            "469/469 [==============================] - 2s 3ms/step - loss: 0.0157 - sparse_categorical_accuracy: 0.9965 - val_loss: 0.0670 - val_sparse_categorical_accuracy: 0.9798\n"
          ],
          "name": "stdout"
        },
        {
          "output_type": "execute_result",
          "data": {
            "text/plain": [
              "<tensorflow.python.keras.callbacks.History at 0x7f932fc1d6d0>"
            ]
          },
          "metadata": {
            "tags": []
          },
          "execution_count": 7
        }
      ]
    },
    {
      "cell_type": "markdown",
      "metadata": {
        "id": "bgUi6tUNo1QL"
      },
      "source": [
        "You can notice a slight increase in the sparse categorical accuracy : 0.9916 -> 0.9963 "
      ]
    },
    {
      "cell_type": "markdown",
      "metadata": {
        "id": "TZd0L2YSZHfX"
      },
      "source": [
        "## Multiple Inputs example"
      ]
    },
    {
      "cell_type": "code",
      "metadata": {
        "colab": {
          "base_uri": "https://localhost:8080/",
          "height": 385
        },
        "id": "p4nr-d4Polgf",
        "outputId": "02307582-8d39-4dd8-c142-ac422f3f5cb7"
      },
      "source": [
        "def connection(layerinputs):\n",
        "    return layerinputs[0] + layerinputs[1]\n",
        "inputs  = tf.keras.Input(shape=(28, 28), name=\"img\")\n",
        "flat  = tf.keras.layers.Flatten()(inputs)\n",
        "branch1 = tf.keras.layers.Dense(128)(flat)\n",
        "branch2 = tf.keras.layers.Dense(128)(flat)\n",
        "branch1 = tf.keras.layers.Lambda(abs_not_relu)(branch1)\n",
        "branch2 = tf.keras.layers.Lambda(abs_not_relu)(branch2)\n",
        "branch1 = tf.keras.layers.Dense(36)(branch1)\n",
        "branch2 = tf.keras.layers.Dense(36)(branch2)\n",
        "x       = tf.keras.layers.Lambda(connection)((branch1,branch2))\n",
        "outputs = tf.keras.layers.Dense(10)(x)\n",
        "\n",
        "model = tf.keras.Model(inputs, outputs, name=\"multi_input_lambda\")\n",
        "tf.keras.utils.plot_model(model, show_shapes=True, show_layer_names=True, to_file='model.png')\n",
        "from IPython.display import Image\n",
        "Image(retina=True, filename='model.png')"
      ],
      "execution_count": 13,
      "outputs": [
        {
          "output_type": "execute_result",
          "data": {
            "image/png": "[encoded data removed]",
            "text/plain": [
              "<IPython.core.display.Image object>"
            ]
          },
          "metadata": {
            "tags": [],
            "image/png": {
              "width": 386,
              "height": 368
            }
          },
          "execution_count": 13
        }
      ]
    },
    {
      "cell_type": "code",
      "metadata": {
        "colab": {
          "base_uri": "https://localhost:8080/"
        },
        "id": "xwL7xkBhcoCS",
        "outputId": "b8395e13-aecd-414f-f8a3-a2f7b4fe78f5"
      },
      "source": [
        "model.compile(\n",
        "    optimizer=tf.keras.optimizers.Adam(0.001),\n",
        "    loss=tf.keras.losses.SparseCategoricalCrossentropy(from_logits=True),\n",
        "    metrics=[tf.keras.metrics.SparseCategoricalAccuracy()],\n",
        ")\n",
        "\n",
        "model.fit(\n",
        "    ds_train,\n",
        "    epochs=10,\n",
        "    validation_data=ds_test,\n",
        ")"
      ],
      "execution_count": 11,
      "outputs": [
        {
          "output_type": "stream",
          "text": [
            "Epoch 1/10\n",
            "469/469 [==============================] - 3s 6ms/step - loss: 0.2418 - sparse_categorical_accuracy: 0.9296 - val_loss: 0.1051 - val_sparse_categorical_accuracy: 0.9684\n",
            "Epoch 2/10\n",
            "469/469 [==============================] - 2s 5ms/step - loss: 0.0883 - sparse_categorical_accuracy: 0.9733 - val_loss: 0.0958 - val_sparse_categorical_accuracy: 0.9706\n",
            "Epoch 3/10\n",
            "469/469 [==============================] - 2s 5ms/step - loss: 0.0597 - sparse_categorical_accuracy: 0.9811 - val_loss: 0.0792 - val_sparse_categorical_accuracy: 0.9759\n",
            "Epoch 4/10\n",
            "469/469 [==============================] - 2s 5ms/step - loss: 0.0413 - sparse_categorical_accuracy: 0.9876 - val_loss: 0.0835 - val_sparse_categorical_accuracy: 0.9747\n",
            "Epoch 5/10\n",
            "469/469 [==============================] - 2s 5ms/step - loss: 0.0322 - sparse_categorical_accuracy: 0.9898 - val_loss: 0.0909 - val_sparse_categorical_accuracy: 0.9760\n",
            "Epoch 6/10\n",
            "469/469 [==============================] - 2s 5ms/step - loss: 0.0266 - sparse_categorical_accuracy: 0.9916 - val_loss: 0.0844 - val_sparse_categorical_accuracy: 0.9764\n",
            "Epoch 7/10\n",
            "469/469 [==============================] - 2s 5ms/step - loss: 0.0197 - sparse_categorical_accuracy: 0.9937 - val_loss: 0.0826 - val_sparse_categorical_accuracy: 0.9783\n",
            "Epoch 8/10\n",
            "469/469 [==============================] - 2s 5ms/step - loss: 0.0198 - sparse_categorical_accuracy: 0.9931 - val_loss: 0.0940 - val_sparse_categorical_accuracy: 0.9777\n",
            "Epoch 9/10\n",
            "469/469 [==============================] - 2s 5ms/step - loss: 0.0217 - sparse_categorical_accuracy: 0.9925 - val_loss: 0.1032 - val_sparse_categorical_accuracy: 0.9757\n",
            "Epoch 10/10\n",
            "469/469 [==============================] - 2s 5ms/step - loss: 0.0151 - sparse_categorical_accuracy: 0.9951 - val_loss: 0.0907 - val_sparse_categorical_accuracy: 0.9794\n"
          ],
          "name": "stdout"
        },
        {
          "output_type": "execute_result",
          "data": {
            "text/plain": [
              "<tensorflow.python.keras.callbacks.History at 0x7f92e1e50c50>"
            ]
          },
          "metadata": {
            "tags": []
          },
          "execution_count": 11
        }
      ]
    },
    {
      "cell_type": "code",
      "metadata": {
        "id": "FVJeFb9Eb42T"
      },
      "source": [
        ""
      ],
      "execution_count": null,
      "outputs": []
    }
  ]
}